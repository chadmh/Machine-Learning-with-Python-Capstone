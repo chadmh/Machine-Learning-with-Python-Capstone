{
  "nbformat": 4,
  "nbformat_minor": 0,
  "metadata": {
    "colab": {
      "name": "Preface.ipynb",
      "provenance": [],
      "collapsed_sections": [],
      "authorship_tag": "ABX9TyOSx3qLaXRZuyc0OF3fH4wx",
      "include_colab_link": true
    },
    "kernelspec": {
      "name": "python3",
      "display_name": "Python 3"
    },
    "language_info": {
      "name": "python"
    }
  },
  "cells": [
    {
      "cell_type": "markdown",
      "metadata": {
        "id": "view-in-github",
        "colab_type": "text"
      },
      "source": [
        "<a href=\"https://colab.research.google.com/github/chadmh/Short-Hands-on-Tutorial-for-Deep-Learning-in-Tensorflow/blob/master/Preface.ipynb\" target=\"_parent\"><img src=\"https://colab.research.google.com/assets/colab-badge.svg\" alt=\"Open In Colab\"/></a>"
      ]
    },
    {
      "cell_type": "markdown",
      "metadata": {
        "id": "-o5v43UyEJXq"
      },
      "source": [
        "# Preface\n",
        "\n",
        "## Setup\n",
        "\n",
        "Each notebook was written and tested using Google Colab Pro.  A Colab account should be sufficient for running each notebook; however, a paid account is recommended due to run times.\n",
        "\n",
        "## Expectations\n",
        "\n",
        "In writing each notebook, I assume the user has a reasonable background in linear algebra and, in particular, is familiar with basic matrix and vector operations.  I also assume you are familiar with basic calculus concepts, in particular the chain rule of differentiation.\n",
        "\n"
      ]
    }
  ]
}