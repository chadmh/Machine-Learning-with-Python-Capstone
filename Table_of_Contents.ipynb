{
  "nbformat": 4,
  "nbformat_minor": 0,
  "metadata": {
    "colab": {
      "name": "Table of Contents.ipynb",
      "provenance": [],
      "collapsed_sections": [],
      "authorship_tag": "ABX9TyO6B1kjtn5YcpimyKXKzQXt",
      "include_colab_link": true
    },
    "kernelspec": {
      "name": "python3",
      "display_name": "Python 3"
    },
    "language_info": {
      "name": "python"
    }
  },
  "cells": [
    {
      "cell_type": "markdown",
      "metadata": {
        "id": "view-in-github",
        "colab_type": "text"
      },
      "source": [
        "<a href=\"https://colab.research.google.com/github/chadmh/Short-Hands-on-Tutorial-for-Deep-Learning-in-Tensorflow/blob/master/Table_of_Contents.ipynb\" target=\"_parent\"><img src=\"https://colab.research.google.com/assets/colab-badge.svg\" alt=\"Open In Colab\"/></a>"
      ]
    },
    {
      "cell_type": "markdown",
      "metadata": {
        "id": "5hHeHV0Xhdhk"
      },
      "source": [
        "# A Short Hands-On Tutorial to Deep Learning in Tensorflow \n",
        "\n",
        "[Preface](https://colab.research.google.com/github/chadmh/Short-Hands-on-Tutorial-for-Deep-Learning-in-Tensorflow/blob/master/Preface.ipynb)\n",
        "1. [Introduction to Tensorflow with MNIST](https://colab.research.google.com/drive/1xi8_50VAG_awaMuRRkxJZzQs8qGnaCtv)\n",
        "2. [Background Theory to Deep Learning](https://colab.research.google.com/drive/1ywcLB_hMqXBbYvoVcrt4epNYz3XauCDG)\n",
        "3. [Convolutional Neural Networks (CNNs)](https://colab.research.google.com/drive/1Q-guIDzrltWDfdiZwmZmlLcyi-gXvBO2)\n",
        "4. [Adapting Pretrained CNNs to Image Processing Tasks](https://colab.research.google.com/drive/1Bb__1m5tu3P2F0YCnGMPNyQ6FZ_Tn8b6)\n",
        "5. YOLO (You Only Look Once) Networks\n",
        "6. Natural Language Processing Systems\n",
        "7. Recommender Systems\n",
        "8. Time-Series Prediction using LSTM\n",
        "9. Recurrant Networks with Attention\n",
        "10. Unsupervised Learning with Restricted Boltzmann Machines\n",
        "11. Autocorrelators\n",
        "12. Data Generation with Generative Adversarial Networks (GANs)\n",
        "13. Reinforcement Learning with Q-Learning"
      ]
    }
  ]
}